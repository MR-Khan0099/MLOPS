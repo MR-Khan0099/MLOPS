{
 "cells": [
  {
   "cell_type": "markdown",
   "id": "68bc8930",
   "metadata": {},
   "source": [
    "### MLFlow Tracking Server\n",
    "\n",
    "##### track all the experiments - compare the visulation \n",
    "##### as you install the mlflow the mlflow server is created in entire system, and run at 5000 ---- mlflow ui (to run)\n"
   ]
  },
  {
   "cell_type": "markdown",
   "id": "9037ec77",
   "metadata": {},
   "source": []
  },
  {
   "cell_type": "code",
   "execution_count": 2,
   "id": "bd97e6c8",
   "metadata": {},
   "outputs": [],
   "source": [
    "import mlflow\n"
   ]
  },
  {
   "cell_type": "code",
   "execution_count": 5,
   "id": "0447180e",
   "metadata": {},
   "outputs": [],
   "source": [
    "mlflow.set_tracking_uri(\"http://127.0.0.1:5000\")"
   ]
  },
  {
   "cell_type": "code",
   "execution_count": 6,
   "id": "6968291e",
   "metadata": {},
   "outputs": [
    {
     "name": "stderr",
     "output_type": "stream",
     "text": [
      "2025/06/04 00:28:47 INFO mlflow.tracking.fluent: Experiment with name 'Check localhost cnnt' does not exist. Creating a new experiment.\n"
     ]
    },
    {
     "name": "stdout",
     "output_type": "stream",
     "text": [
      "🏃 View run defiant-chimp-430 at: http://127.0.0.1:5000/#/experiments/135821681483785516/runs/703a0ef11c304616aec827c7591d9e7e\n",
      "🧪 View experiment at: http://127.0.0.1:5000/#/experiments/135821681483785516\n"
     ]
    }
   ],
   "source": [
    "mlflow.set_experiment(\"Check localhost cnnt\")\n",
    "\n",
    "with mlflow.start_run():\n",
    "    mlflow.log_metric(\"test\",1 )\n",
    "    mlflow.log_metric(\"test2\",2 )"
   ]
  },
  {
   "cell_type": "code",
   "execution_count": 7,
   "id": "341a59ef",
   "metadata": {},
   "outputs": [
    {
     "name": "stdout",
     "output_type": "stream",
     "text": [
      "🏃 View run debonair-dove-143 at: http://127.0.0.1:5000/#/experiments/135821681483785516/runs/79c2db9a32b1471d8e089feaad79ffdc\n",
      "🧪 View experiment at: http://127.0.0.1:5000/#/experiments/135821681483785516\n"
     ]
    }
   ],
   "source": [
    "with mlflow.start_run():\n",
    "    mlflow.log_metric(\"test3\",1 )\n",
    "    mlflow.log_metric(\"test4\",2 )"
   ]
  },
  {
   "cell_type": "code",
   "execution_count": 8,
   "id": "cde661a2",
   "metadata": {},
   "outputs": [
    {
     "name": "stdout",
     "output_type": "stream",
     "text": [
      "🏃 View run intelligent-sow-274 at: http://127.0.0.1:5000/#/experiments/135821681483785516/runs/1f4b9736ccfb472cb97526dbc812e329\n",
      "🧪 View experiment at: http://127.0.0.1:5000/#/experiments/135821681483785516\n"
     ]
    }
   ],
   "source": [
    "with mlflow.start_run():\n",
    "    mlflow.log_metric(\"test5\",1 )\n",
    "    mlflow.log_metric(\"test6\",2 )"
   ]
  },
  {
   "cell_type": "code",
   "execution_count": null,
   "id": "ea62a986",
   "metadata": {},
   "outputs": [],
   "source": []
  }
 ],
 "metadata": {
  "kernelspec": {
   "display_name": "Python 3",
   "language": "python",
   "name": "python3"
  },
  "language_info": {
   "codemirror_mode": {
    "name": "ipython",
    "version": 3
   },
   "file_extension": ".py",
   "mimetype": "text/x-python",
   "name": "python",
   "nbconvert_exporter": "python",
   "pygments_lexer": "ipython3",
   "version": "3.10.16"
  }
 },
 "nbformat": 4,
 "nbformat_minor": 5
}
